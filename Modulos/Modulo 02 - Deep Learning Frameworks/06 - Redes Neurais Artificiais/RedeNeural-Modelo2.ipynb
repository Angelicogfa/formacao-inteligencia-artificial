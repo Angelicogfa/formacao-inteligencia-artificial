{
 "metadata": {
  "language_info": {
   "codemirror_mode": {
    "name": "ipython",
    "version": 3
   },
   "file_extension": ".py",
   "mimetype": "text/x-python",
   "name": "python",
   "nbconvert_exporter": "python",
   "pygments_lexer": "ipython3",
   "version": "3.7.10"
  },
  "orig_nbformat": 4,
  "kernelspec": {
   "name": "python3",
   "display_name": "Python 3.7.10 64-bit ('IA': conda)"
  },
  "interpreter": {
   "hash": "cd33b1ad81c559069350aab209dba1ac81a1a78823a0538f4b422d164d6af523"
  }
 },
 "nbformat": 4,
 "nbformat_minor": 2,
 "cells": [
  {
   "source": [
    "# Redes Neurais - Multilayer Perceptron "
   ],
   "cell_type": "markdown",
   "metadata": {}
  },
  {
   "cell_type": "code",
   "execution_count": 1,
   "metadata": {},
   "outputs": [],
   "source": [
    "# Imports\n",
    "import numpy as np\n",
    "import tensorflow as tf\n",
    "import os\n",
    "os.environ['TF_CPP_MIN_LOG_LEVEL'] = '3'"
   ]
  },
  {
   "cell_type": "code",
   "execution_count": 2,
   "metadata": {},
   "outputs": [],
   "source": [
    "# Gerando dados sintéticos\n",
    "\n",
    "# Hiperparâmetros\n",
    "size = 200000\n",
    "num_epochs = 10\n",
    "learning_rate = 0.001"
   ]
  },
  {
   "cell_type": "code",
   "execution_count": 3,
   "metadata": {},
   "outputs": [],
   "source": [
    "# Gerando dados para x\n",
    "# https://docs.scipy.org/doc/numpy-1.15.1/reference/generated/numpy.random.randint.html\n",
    "# https://docs.scipy.org/doc/numpy/reference/generated/numpy.dstack.html\n",
    "x1 = np.random.randint(0, 100, size)\n",
    "x2 = np.random.randint(0, 100, size)\n",
    "x_treino = np.dstack((x1, x2))[0]"
   ]
  },
  {
   "cell_type": "code",
   "execution_count": 4,
   "metadata": {},
   "outputs": [
    {
     "output_type": "stream",
     "name": "stdout",
     "text": [
      "\nValores e shape de x:\n[[90 25]\n [97 81]\n [41 44]\n ...\n [70 15]\n [37 16]\n [66 81]]\n(200000, 2)\n\nValores e shape de y:\n[ 1278.46049894 13151.54657341  3891.20937271 ...   475.0998008\n   530.24828759 13146.37211521]\n(200000,)\n"
     ]
    }
   ],
   "source": [
    "# Gerando dados para y\n",
    "y_treino = 3*(x1**(1/2)) + 2*(x2**2)\n",
    "\n",
    "# Print\n",
    "print(\"\\nValores e shape de x:\")\n",
    "print(x_treino)\n",
    "print(x_treino.shape)\n",
    "print(\"\\nValores e shape de y:\")\n",
    "print(y_treino)\n",
    "print(y_treino.shape)"
   ]
  },
  {
   "cell_type": "code",
   "execution_count": 6,
   "metadata": {},
   "outputs": [],
   "source": [
    "# tf.keras.Model\n",
    "class Modelo(tf.keras.Model):\n",
    "    def __init__(self):\n",
    "        super(Modelo, self).__init__()\n",
    "        self.entrada = tf.keras.layers.Dense(64, input_shape = (2,), activation = 'sigmoid')\n",
    "        self.oculta1 = tf.keras.layers.Dense(128, activation = 'relu')\n",
    "        self.saida = tf.keras.layers.Dense(2)\n",
    "        self.compile(optimizer = tf.keras.optimizers.RMSprop(learning_rate), loss = tf.keras.losses.MSE)\n",
    "\n",
    "    # https://www.tensorflow.org/api_docs/python/tf/keras/optimizers/RMSprop\n",
    "\n",
    "    def call(self, inputs):\n",
    "        x = self.entrada(inputs)\n",
    "        x = self.oculta1(x)\n",
    "        x = self.saida(x)\n",
    "        return x"
   ]
  },
  {
   "cell_type": "code",
   "execution_count": 7,
   "metadata": {},
   "outputs": [
    {
     "output_type": "stream",
     "name": "stdout",
     "text": [
      "Epoch 1/10\n",
      "6250/6250 [==============================] - 4s 600us/step - loss: 14898558.0000\n",
      "Epoch 2/10\n",
      "6250/6250 [==============================] - 3s 550us/step - loss: 127353.2656\n",
      "Epoch 3/10\n",
      "6250/6250 [==============================] - 4s 572us/step - loss: 115189.5156\n",
      "Epoch 4/10\n",
      "6250/6250 [==============================] - 4s 602us/step - loss: 108501.0625\n",
      "Epoch 5/10\n",
      "6250/6250 [==============================] - 3s 547us/step - loss: 103479.2344\n",
      "Epoch 6/10\n",
      "6250/6250 [==============================] - 4s 571us/step - loss: 99169.8125\n",
      "Epoch 7/10\n",
      "6250/6250 [==============================] - 4s 603us/step - loss: 94982.9141\n",
      "Epoch 8/10\n",
      "6250/6250 [==============================] - 4s 595us/step - loss: 91125.6875\n",
      "Epoch 9/10\n",
      "6250/6250 [==============================] - 4s 583us/step - loss: 87934.9062\n",
      "Epoch 10/10\n",
      "6250/6250 [==============================] - 4s 677us/step - loss: 84384.4453\n"
     ]
    },
    {
     "output_type": "execute_result",
     "data": {
      "text/plain": [
       "<tensorflow.python.keras.callbacks.History at 0x25902fb2fc8>"
      ]
     },
     "metadata": {},
     "execution_count": 7
    }
   ],
   "source": [
    "# Cria o modelo\n",
    "modelo_v2 = Modelo()\n",
    "\n",
    "# Treina o modelo\n",
    "modelo_v2.fit(x = x_treino, y = y_treino, epochs = num_epochs)"
   ]
  },
  {
   "cell_type": "code",
   "execution_count": 8,
   "metadata": {},
   "outputs": [
    {
     "output_type": "stream",
     "name": "stdout",
     "text": [
      "\n",
      "Sumário do modelo:\n",
      "Model: \"modelo\"\n",
      "_________________________________________________________________\n",
      "Layer (type)                 Output Shape              Param #   \n",
      "=================================================================\n",
      "dense (Dense)                multiple                  192       \n",
      "_________________________________________________________________\n",
      "dense_1 (Dense)              multiple                  8320      \n",
      "_________________________________________________________________\n",
      "dense_2 (Dense)              multiple                  258       \n",
      "=================================================================\n",
      "Total params: 8,770\n",
      "Trainable params: 8,770\n",
      "Non-trainable params: 0\n",
      "_________________________________________________________________\n",
      "\n",
      "Erro Final em Treino: 142720\n"
     ]
    }
   ],
   "source": [
    "# Sumário do modelo\n",
    "print(\"\\nSumário do modelo:\")\n",
    "modelo_v2.summary()\n",
    "\n",
    "# Avaliando a performance em treino\n",
    "scores_treino = modelo_v2.evaluate(x_treino, y_treino, verbose = 0)\n",
    "print(\"\\nErro Final em Treino: {:.0f}\".format(scores_treino))"
   ]
  },
  {
   "cell_type": "code",
   "execution_count": 9,
   "metadata": {},
   "outputs": [],
   "source": [
    "# Testando o modelo\n",
    "\n",
    "# Gerando novos dados para x\n",
    "x1 = np.array([100, 9, 62, 79, 94, 91, 71, 41])\n",
    "x2 = np.array([65, 39, 40, 44, 77, 42, 36, 74])\n",
    "x_teste = np.dstack((x1, x2))[0]\n",
    "\n",
    "# Gerando novos dados para y\n",
    "y_teste = 3*(x1**(1/2)) + 2*(x2**2)"
   ]
  },
  {
   "cell_type": "code",
   "execution_count": 10,
   "metadata": {},
   "outputs": [
    {
     "output_type": "stream",
     "name": "stdout",
     "text": [
      "\nTestando o Modelo...\n\nErro Final em Teste: 137737\n\n\nEntrada(x): (100, 65), Saida(y): (8480), Previsão do Modelo(y_pred): (7888)\nEntrada(x): (9, 39), Saida(y): (3051), Previsão do Modelo(y_pred): (2985)\nEntrada(x): (62, 40), Saida(y): (3224), Previsão do Modelo(y_pred): (3065)\nEntrada(x): (79, 44), Saida(y): (3899), Previsão do Modelo(y_pred): (3675)\nEntrada(x): (94, 77), Saida(y): (11887), Previsão do Modelo(y_pred): (11248)\n\n\n"
     ]
    }
   ],
   "source": [
    "# Fazendo previsões\n",
    "print(\"\\nTestando o Modelo...\")\n",
    "y_pred = modelo_v2.predict(x_teste)\n",
    "\n",
    "# Avaliando a performance em teste\n",
    "scores_teste = modelo_v2.evaluate(x_teste, y_teste, verbose = 0)\n",
    "print(\"\\nErro Final em Teste: {:.0f}\".format(scores_teste))\n",
    "\n",
    "print(\"\\n\")\n",
    "for i in range(5):\n",
    "\tprint ('''Entrada(x): ({}, {}), Saida(y): ({:.0f}), Previsão do Modelo(y_pred): ({:.0f})'''.format(x1[i], x2[i], y_teste[i], y_pred[i][0]))\n",
    "\n",
    "print(\"\\n\")"
   ]
  },
  {
   "cell_type": "code",
   "execution_count": null,
   "metadata": {},
   "outputs": [],
   "source": []
  }
 ]
}