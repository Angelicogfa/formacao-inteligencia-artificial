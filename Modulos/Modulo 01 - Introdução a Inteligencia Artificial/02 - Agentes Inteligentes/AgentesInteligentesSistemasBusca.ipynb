{
 "metadata": {
  "language_info": {
   "codemirror_mode": {
    "name": "ipython",
    "version": 3
   },
   "file_extension": ".py",
   "mimetype": "text/x-python",
   "name": "python",
   "nbconvert_exporter": "python",
   "pygments_lexer": "ipython3",
   "version": "3.8.2-final"
  },
  "orig_nbformat": 2
 },
 "nbformat": 4,
 "nbformat_minor": 2,
 "cells": [
  {
   "source": [
    "# Agentes inteligentes\n",
    "\n",
    "O que são agentes:\n",
    "\n",
    "Entidades autonomas, dotada de uma base de conhecimento e capaz de interagir com o meio em que estão, tendo assim, decisões que irão auxiliar ou até mesmo substituir o trabalho de um humano."
   ],
   "cell_type": "markdown",
   "metadata": {}
  },
  {
   "source": [
    "Agente -> Atuadores -> Ambiente\n",
    "\n",
    "Agente <- sensores <- ambiente"
   ],
   "cell_type": "markdown",
   "metadata": {}
  },
  {
   "source": [
    "## Exemplo de agente\n",
    "\n",
    "* Agente humano\n",
    "\n",
    "Sensores: olhos ouvidos, outros orgãos\n",
    "\n",
    "Autadores: Mãos, pernas, bocas, outras parte do corpo\n",
    "\n",
    "* Software\n",
    "\n",
    "Sendores: entrada do teclado, conteúdo de arquivos, pacotes de rede.\n",
    "\n",
    "Atuadores: Monitor, disco rigido, envio de pacotes de rede.\n",
    "\n",
    "* Agentes roboticos\n",
    "\n",
    "Sensores: Câmera, sensores.\n",
    "\n",
    "Atuadores: Motores, partes mecanicas"
   ],
   "cell_type": "markdown",
   "metadata": {}
  },
  {
   "source": [
    "## Agente inteligente\n",
    "\n",
    "Uma agente inteligente pode ser um software desenvolvido para automatizar e executar uma tarefa em uma rede para o usuário.\n",
    "\n",
    "### Funcionamento\n",
    "\n",
    "Três caracteristicas principais:\n",
    "\n",
    "* Inteligencia\n",
    "\n",
    "* Interatividade\n",
    "\n",
    "* Autonomia\n",
    "\n",
    "Pode ser controlado por uma pessoa ou outro agente.\n",
    "\n",
    "### Comportamento do agente inteligente\n",
    "\n",
    "$f = P* \\rightarrow A$\n",
    "\n",
    "P* = uma sequencia de percepções \n",
    "\n",
    "A = Ação\n",
    "\n",
    "* Percepções: local e conteúdo\n",
    "\n",
    "* Ações: Esquerda, direita, aspirar, standby."
   ],
   "cell_type": "markdown",
   "metadata": {}
  },
  {
   "source": [
    "### Medida de desempenho do agente\n",
    "\n",
    "Sequencia de Percepções | Ação  \n",
    ":-----------------------|:--------\n",
    "\\[A, Limpo\\] | Direita\n",
    "\\[A, Sujo\\] | Aspira\n",
    "\\[B, Limpo\\] | Esquerda\n",
    "\\[B, Sujo\\] | Aspirar\n",
    "\\[A, Limpo\\], \\[A, Limpo\\] | Direita\n",
    "\\[A, Limpo\\], \\[A, Sujo\\] | Esquerda\n",
    "... | ...\n",
    "\\[A, Limpo\\], \\[A, Limpo\\], \\[A, Limpo\\] | Direita\n",
    "\\[A, Limpo\\], \\[A, Limpo\\], \\[A, Sujo\\] | Esquerda\n",
    "\n",
    "\n",
    "Exemplos de medidas de desempenho do agente \"Aspirador de pó\".\n",
    "\n",
    "* Quantidade de sujeira aspirada\n",
    "\n",
    "* Gasto com energia\n",
    "\n",
    "* Gasto de tempo\n",
    "\n",
    "* Quantidade de barulho gerado"
   ],
   "cell_type": "markdown",
   "metadata": {}
  },
  {
   "source": [
    "# Agentes e Ambientes\n",
    "\n",
    "Ambientes são essencialmente os \"problemas\" para os quais os agentes são as \"soluções\".\n",
    "\n",
    "## Racicionalidade\n",
    "\n",
    "Uma expectativa importante que temos em relação a um agente inteligente é que ele seja racional, isto é, que ele tome a decisão certa em uma situação particular.\n",
    "\n",
    "Outro aspecto importante a notar é  que o agente racional não pode sempre selecionar a ação que seria objetivamente a melhor, pois isso exigiria um conhecimento total sobre o mundo, o que é impossível.\n",
    "\n",
    "Em outras palavras, para o agente ser racional, não temos a expectativa dele ser onisciente.\n",
    "\n",
    "O que racional em uma situação especifica:\n",
    "\n",
    "* Como foi estabelecida a medida de performance.\n",
    "\n",
    "* Tudo o que o sistema percebeu até o momento que ele toma uma decisão.\n",
    "\n",
    "* O conhecimento que o sistema tem sobre o ambiente.\n",
    "\n",
    "* As ações que o sistema pode efetuar.\n",
    "\n",
    "\"Um agente racional ideal faz as ações que maximizam a medida de performance, considerando o que ele pode deduzir das informações e que ele recebe do _ambiente_ onde ele atua e o tipo de conhecimneto que ele tem.\""
   ],
   "cell_type": "markdown",
   "metadata": {}
  },
  {
   "source": [
    "### Ambiente\n",
    "\n",
    "Um tipo importante de coleta de informação é a exploração de um ambiente desconhecido.\n",
    "\n",
    "### Ambiente de tarefas - PEAS\n",
    "\n",
    "* Performance\n",
    "\n",
    "* Environment\n",
    "\n",
    "* Actuators\n",
    "\n",
    "* Sensors"
   ],
   "cell_type": "markdown",
   "metadata": {}
  },
  {
   "cell_type": "code",
   "execution_count": null,
   "metadata": {},
   "outputs": [],
   "source": []
  }
 ]
}